{
  "nbformat": 4,
  "nbformat_minor": 0,
  "metadata": {
    "colab": {
      "provenance": [],
      "include_colab_link": true
    },
    "kernelspec": {
      "name": "python3",
      "display_name": "Python 3"
    },
    "language_info": {
      "name": "python"
    }
  },
  "cells": [
    {
      "cell_type": "markdown",
      "metadata": {
        "id": "view-in-github",
        "colab_type": "text"
      },
      "source": [
        "<a href=\"https://colab.research.google.com/github/777tharun7/Supervised-Learning/blob/main/LAB_4_Regression.ipynb\" target=\"_parent\"><img src=\"https://colab.research.google.com/assets/colab-badge.svg\" alt=\"Open In Colab\"/></a>"
      ]
    },
    {
      "cell_type": "markdown",
      "source": [
        "LAB-4"
      ],
      "metadata": {
        "id": "_TolngiW-AQ_"
      }
    },
    {
      "cell_type": "code",
      "execution_count": null,
      "metadata": {
        "id": "6mlgdOpO8LXP"
      },
      "outputs": [],
      "source": [
        "import numpy as np\n",
        "import pandas as pd\n",
        "import matplotlib.pyplot as plt"
      ]
    },
    {
      "cell_type": "code",
      "source": [
        "df = pd.read_csv(\"salary_data.csv\") #divide your data frame into 2 data frames , one data frame shall have the independent features and another data frame shall have dependent features\n"
      ],
      "metadata": {
        "id": "wyKwdud29EUa",
        "colab": {
          "base_uri": "https://localhost:8080/",
          "height": 176
        },
        "outputId": "1fee062b-445b-46de-cc05-7227a20c3a14",
        "collapsed": true
      },
      "execution_count": null,
      "outputs": [
        {
          "output_type": "error",
          "ename": "NameError",
          "evalue": "name 'pd' is not defined",
          "traceback": [
            "\u001b[0;31m---------------------------------------------------------------------------\u001b[0m",
            "\u001b[0;31mNameError\u001b[0m                                 Traceback (most recent call last)",
            "\u001b[0;32m<ipython-input-1-fcf9d7219f22>\u001b[0m in \u001b[0;36m<cell line: 1>\u001b[0;34m()\u001b[0m\n\u001b[0;32m----> 1\u001b[0;31m \u001b[0mdf\u001b[0m \u001b[0;34m=\u001b[0m \u001b[0mpd\u001b[0m\u001b[0;34m.\u001b[0m\u001b[0mread_csv\u001b[0m\u001b[0;34m(\u001b[0m\u001b[0;34m\"salary_data.csv\"\u001b[0m\u001b[0;34m)\u001b[0m \u001b[0;31m#divide your data frame into 2 data frames , one data frame shall have the independent features and another data frame shall have dependent features\u001b[0m\u001b[0;34m\u001b[0m\u001b[0;34m\u001b[0m\u001b[0m\n\u001b[0m\u001b[1;32m      2\u001b[0m \u001b[0mdf\u001b[0m\u001b[0;34m.\u001b[0m\u001b[0minfo\u001b[0m\u001b[0;34m(\u001b[0m\u001b[0;34m)\u001b[0m\u001b[0;34m\u001b[0m\u001b[0;34m\u001b[0m\u001b[0m\n",
            "\u001b[0;31mNameError\u001b[0m: name 'pd' is not defined"
          ]
        }
      ]
    },
    {
      "cell_type": "code",
      "source": [
        "x = pd.DataFrame(df[\"Salary\"])\n",
        "y = df[\"YearsExperience\"]\n",
        "x,y\n",
        "#Again we have to divide both the data frame into train data and test data\n",
        "#Train is the one from which we will be training our model the test data is the one from which we will be testing our model\n",
        "#We will be using 80% of the dat for training purpose and 20% of the data for testing purpose, for the we will import a lib named train_test_split"
      ],
      "metadata": {
        "colab": {
          "base_uri": "https://localhost:8080/"
        },
        "id": "-tAsY-O59QPS",
        "outputId": "0e1dc43f-b811-4a76-e354-945d20a3cc3b",
        "collapsed": true
      },
      "execution_count": null,
      "outputs": [
        {
          "output_type": "execute_result",
          "data": {
            "text/plain": [
              "(      Salary\n",
              " 0    39343.0\n",
              " 1    46205.0\n",
              " 2    37731.0\n",
              " 3    43525.0\n",
              " 4    39891.0\n",
              " 5    56642.0\n",
              " 6    60150.0\n",
              " 7    54445.0\n",
              " 8    64445.0\n",
              " 9    57189.0\n",
              " 10   63218.0\n",
              " 11   55794.0\n",
              " 12   56957.0\n",
              " 13   57081.0\n",
              " 14   61111.0\n",
              " 15   67938.0\n",
              " 16   66029.0\n",
              " 17   83088.0\n",
              " 18   81363.0\n",
              " 19   93940.0\n",
              " 20   91738.0\n",
              " 21   98273.0\n",
              " 22  101302.0\n",
              " 23  113812.0\n",
              " 24  109431.0\n",
              " 25  105582.0\n",
              " 26  116969.0\n",
              " 27  112635.0\n",
              " 28  122391.0\n",
              " 29  121872.0,\n",
              " 0      1.1\n",
              " 1      1.3\n",
              " 2      1.5\n",
              " 3      2.0\n",
              " 4      2.2\n",
              " 5      2.9\n",
              " 6      3.0\n",
              " 7      3.2\n",
              " 8      3.2\n",
              " 9      3.7\n",
              " 10     3.9\n",
              " 11     4.0\n",
              " 12     4.0\n",
              " 13     4.1\n",
              " 14     4.5\n",
              " 15     4.9\n",
              " 16     5.1\n",
              " 17     5.3\n",
              " 18     5.9\n",
              " 19     6.0\n",
              " 20     6.8\n",
              " 21     7.1\n",
              " 22     7.9\n",
              " 23     8.2\n",
              " 24     8.7\n",
              " 25     9.0\n",
              " 26     9.5\n",
              " 27     9.6\n",
              " 28    10.3\n",
              " 29    10.5\n",
              " Name: YearsExperience, dtype: float64)"
            ]
          },
          "metadata": {},
          "execution_count": 31
        }
      ]
    },
    {
      "cell_type": "code",
      "source": [
        "from sklearn.model_selection import train_test_split"
      ],
      "metadata": {
        "id": "xpm2KW_j-zqu"
      },
      "execution_count": null,
      "outputs": []
    },
    {
      "cell_type": "code",
      "source": [
        "x_train, x_test, y_train, y_test = train_test_split(x, y, test_size = 0.3, random_state = 1) # random_state = 1 is used to control the randomness of the data set which means nomatter how many iterations we are doing, the train data will remain same for all the iterations and test data will same for all the iterations"
      ],
      "metadata": {
        "id": "vpE7AIf1CJ8R"
      },
      "execution_count": null,
      "outputs": []
    },
    {
      "cell_type": "code",
      "source": [
        "x_train, y_train, x_test, y_test"
      ],
      "metadata": {
        "colab": {
          "base_uri": "https://localhost:8080/"
        },
        "collapsed": true,
        "id": "_enbkLRbCiCm",
        "outputId": "30c6160f-7e74-40f0-fad4-33503f66ae92"
      },
      "execution_count": null,
      "outputs": [
        {
          "output_type": "execute_result",
          "data": {
            "text/plain": [
              "(      Salary\n",
              " 22  101302.0\n",
              " 23  113812.0\n",
              " 4    39891.0\n",
              " 2    37731.0\n",
              " 25  105582.0\n",
              " 6    60150.0\n",
              " 18   81363.0\n",
              " 13   57081.0\n",
              " 7    54445.0\n",
              " 27  112635.0\n",
              " 1    46205.0\n",
              " 16   66029.0\n",
              " 0    39343.0\n",
              " 15   67938.0\n",
              " 29  121872.0\n",
              " 28  122391.0\n",
              " 9    57189.0\n",
              " 8    64445.0\n",
              " 12   56957.0\n",
              " 11   55794.0\n",
              " 5    56642.0,\n",
              " 22     7.9\n",
              " 23     8.2\n",
              " 4      2.2\n",
              " 2      1.5\n",
              " 25     9.0\n",
              " 6      3.0\n",
              " 18     5.9\n",
              " 13     4.1\n",
              " 7      3.2\n",
              " 27     9.6\n",
              " 1      1.3\n",
              " 16     5.1\n",
              " 0      1.1\n",
              " 15     4.9\n",
              " 29    10.5\n",
              " 28    10.3\n",
              " 9      3.7\n",
              " 8      3.2\n",
              " 12     4.0\n",
              " 11     4.0\n",
              " 5      2.9\n",
              " Name: YearsExperience, dtype: float64,\n",
              "       Salary\n",
              " 17   83088.0\n",
              " 21   98273.0\n",
              " 10   63218.0\n",
              " 19   93940.0\n",
              " 14   61111.0\n",
              " 20   91738.0\n",
              " 26  116969.0\n",
              " 3    43525.0\n",
              " 24  109431.0,\n",
              " 17    5.3\n",
              " 21    7.1\n",
              " 10    3.9\n",
              " 19    6.0\n",
              " 14    4.5\n",
              " 20    6.8\n",
              " 26    9.5\n",
              " 3     2.0\n",
              " 24    8.7\n",
              " Name: YearsExperience, dtype: float64)"
            ]
          },
          "metadata": {},
          "execution_count": 34
        }
      ]
    },
    {
      "cell_type": "code",
      "source": [
        "#After splitting the data frame now we prepare a linear regression model on our trained dataset\n",
        "#For building a model we will import linear regression library\n",
        "\n",
        "from sklearn.linear_model import LinearRegression"
      ],
      "metadata": {
        "id": "RzL2d0jOEVzz"
      },
      "execution_count": null,
      "outputs": []
    },
    {
      "cell_type": "code",
      "source": [
        "model = LinearRegression()\n",
        "model.fit(x_train, y_train)"
      ],
      "metadata": {
        "colab": {
          "base_uri": "https://localhost:8080/",
          "height": 75
        },
        "id": "WgXS4GcyErmJ",
        "outputId": "07dc7d0f-e95d-412a-f479-185df2a0004e"
      },
      "execution_count": null,
      "outputs": [
        {
          "output_type": "execute_result",
          "data": {
            "text/plain": [
              "LinearRegression()"
            ],
            "text/html": [
              "<style>#sk-container-id-2 {color: black;}#sk-container-id-2 pre{padding: 0;}#sk-container-id-2 div.sk-toggleable {background-color: white;}#sk-container-id-2 label.sk-toggleable__label {cursor: pointer;display: block;width: 100%;margin-bottom: 0;padding: 0.3em;box-sizing: border-box;text-align: center;}#sk-container-id-2 label.sk-toggleable__label-arrow:before {content: \"▸\";float: left;margin-right: 0.25em;color: #696969;}#sk-container-id-2 label.sk-toggleable__label-arrow:hover:before {color: black;}#sk-container-id-2 div.sk-estimator:hover label.sk-toggleable__label-arrow:before {color: black;}#sk-container-id-2 div.sk-toggleable__content {max-height: 0;max-width: 0;overflow: hidden;text-align: left;background-color: #f0f8ff;}#sk-container-id-2 div.sk-toggleable__content pre {margin: 0.2em;color: black;border-radius: 0.25em;background-color: #f0f8ff;}#sk-container-id-2 input.sk-toggleable__control:checked~div.sk-toggleable__content {max-height: 200px;max-width: 100%;overflow: auto;}#sk-container-id-2 input.sk-toggleable__control:checked~label.sk-toggleable__label-arrow:before {content: \"▾\";}#sk-container-id-2 div.sk-estimator input.sk-toggleable__control:checked~label.sk-toggleable__label {background-color: #d4ebff;}#sk-container-id-2 div.sk-label input.sk-toggleable__control:checked~label.sk-toggleable__label {background-color: #d4ebff;}#sk-container-id-2 input.sk-hidden--visually {border: 0;clip: rect(1px 1px 1px 1px);clip: rect(1px, 1px, 1px, 1px);height: 1px;margin: -1px;overflow: hidden;padding: 0;position: absolute;width: 1px;}#sk-container-id-2 div.sk-estimator {font-family: monospace;background-color: #f0f8ff;border: 1px dotted black;border-radius: 0.25em;box-sizing: border-box;margin-bottom: 0.5em;}#sk-container-id-2 div.sk-estimator:hover {background-color: #d4ebff;}#sk-container-id-2 div.sk-parallel-item::after {content: \"\";width: 100%;border-bottom: 1px solid gray;flex-grow: 1;}#sk-container-id-2 div.sk-label:hover label.sk-toggleable__label {background-color: #d4ebff;}#sk-container-id-2 div.sk-serial::before {content: \"\";position: absolute;border-left: 1px solid gray;box-sizing: border-box;top: 0;bottom: 0;left: 50%;z-index: 0;}#sk-container-id-2 div.sk-serial {display: flex;flex-direction: column;align-items: center;background-color: white;padding-right: 0.2em;padding-left: 0.2em;position: relative;}#sk-container-id-2 div.sk-item {position: relative;z-index: 1;}#sk-container-id-2 div.sk-parallel {display: flex;align-items: stretch;justify-content: center;background-color: white;position: relative;}#sk-container-id-2 div.sk-item::before, #sk-container-id-2 div.sk-parallel-item::before {content: \"\";position: absolute;border-left: 1px solid gray;box-sizing: border-box;top: 0;bottom: 0;left: 50%;z-index: -1;}#sk-container-id-2 div.sk-parallel-item {display: flex;flex-direction: column;z-index: 1;position: relative;background-color: white;}#sk-container-id-2 div.sk-parallel-item:first-child::after {align-self: flex-end;width: 50%;}#sk-container-id-2 div.sk-parallel-item:last-child::after {align-self: flex-start;width: 50%;}#sk-container-id-2 div.sk-parallel-item:only-child::after {width: 0;}#sk-container-id-2 div.sk-dashed-wrapped {border: 1px dashed gray;margin: 0 0.4em 0.5em 0.4em;box-sizing: border-box;padding-bottom: 0.4em;background-color: white;}#sk-container-id-2 div.sk-label label {font-family: monospace;font-weight: bold;display: inline-block;line-height: 1.2em;}#sk-container-id-2 div.sk-label-container {text-align: center;}#sk-container-id-2 div.sk-container {/* jupyter's `normalize.less` sets `[hidden] { display: none; }` but bootstrap.min.css set `[hidden] { display: none !important; }` so we also need the `!important` here to be able to override the default hidden behavior on the sphinx rendered scikit-learn.org. See: https://github.com/scikit-learn/scikit-learn/issues/21755 */display: inline-block !important;position: relative;}#sk-container-id-2 div.sk-text-repr-fallback {display: none;}</style><div id=\"sk-container-id-2\" class=\"sk-top-container\"><div class=\"sk-text-repr-fallback\"><pre>LinearRegression()</pre><b>In a Jupyter environment, please rerun this cell to show the HTML representation or trust the notebook. <br />On GitHub, the HTML representation is unable to render, please try loading this page with nbviewer.org.</b></div><div class=\"sk-container\" hidden><div class=\"sk-item\"><div class=\"sk-estimator sk-toggleable\"><input class=\"sk-toggleable__control sk-hidden--visually\" id=\"sk-estimator-id-2\" type=\"checkbox\" checked><label for=\"sk-estimator-id-2\" class=\"sk-toggleable__label sk-toggleable__label-arrow\">LinearRegression</label><div class=\"sk-toggleable__content\"><pre>LinearRegression()</pre></div></div></div></div></div>"
            ]
          },
          "metadata": {},
          "execution_count": 36
        }
      ]
    },
    {
      "cell_type": "code",
      "source": [
        "x_pred = model.predict(x_train)\n",
        "y_pred = model.predict(x_test)"
      ],
      "metadata": {
        "id": "CFju7anhGZNL"
      },
      "execution_count": null,
      "outputs": []
    },
    {
      "cell_type": "code",
      "source": [
        "x_pred"
      ],
      "metadata": {
        "colab": {
          "base_uri": "https://localhost:8080/"
        },
        "id": "ZsdV06-UGqJt",
        "outputId": "68b79054-f2b7-4094-9485-f29506105ff2"
      },
      "execution_count": null,
      "outputs": [
        {
          "output_type": "execute_result",
          "data": {
            "text/plain": [
              "array([ 8.05410626,  9.36023523,  1.64238074,  1.41686206,  8.50096733,\n",
              "        3.75755794,  5.97233923,  3.4371335 ,  3.16191719,  9.23734844,\n",
              "        2.30160522,  4.37136547,  1.58516581,  4.57067804, 10.20175398,\n",
              "       10.2559411 ,  3.44840943,  4.20598511,  3.42418705,  3.30276195,\n",
              "        3.39129891])"
            ]
          },
          "metadata": {},
          "execution_count": 38
        }
      ]
    },
    {
      "cell_type": "code",
      "source": [
        "#After buliding a linear regression model, we will make predictions on test data and then we will calculate the coefficient and intercept\n",
        "model.coef_"
      ],
      "metadata": {
        "colab": {
          "base_uri": "https://localhost:8080/"
        },
        "id": "aOgKImsqGthl",
        "outputId": "53012aa8-037e-4b8f-8503-dbec42c762b4"
      },
      "execution_count": null,
      "outputs": [
        {
          "output_type": "execute_result",
          "data": {
            "text/plain": [
              "array([0.00010441])"
            ]
          },
          "metadata": {},
          "execution_count": 39
        }
      ]
    },
    {
      "cell_type": "code",
      "source": [
        "model.intercept_"
      ],
      "metadata": {
        "colab": {
          "base_uri": "https://localhost:8080/"
        },
        "id": "N5YLwvGdHVwR",
        "outputId": "6616141c-88af-47ea-8027-ce19baa00396"
      },
      "execution_count": null,
      "outputs": [
        {
          "output_type": "execute_result",
          "data": {
            "text/plain": [
              "-2.522510616511819"
            ]
          },
          "metadata": {},
          "execution_count": 40
        }
      ]
    },
    {
      "cell_type": "code",
      "source": [
        "model.score(x_test,y_test) #This will give the accuracy of the test"
      ],
      "metadata": {
        "colab": {
          "base_uri": "https://localhost:8080/"
        },
        "id": "StMZL8TnHjoU",
        "outputId": "69d0c6aa-af5e-4b7f-bfb7-bf1c7677379b"
      },
      "execution_count": null,
      "outputs": [
        {
          "output_type": "execute_result",
          "data": {
            "text/plain": [
              "0.9242662549548135"
            ]
          },
          "metadata": {},
          "execution_count": 41
        }
      ]
    },
    {
      "cell_type": "code",
      "source": [
        "plt.scatter(x_train, y_train, color =\"Green\")\n",
        "plt.plot(x_train, x_pred, color = \"red\")\n",
        "plt.title(\"Salary vs Experience\")\n",
        "plt.xlabel(\"Years of experience\")\n",
        "plt.ylabel(\"Salary\")\n",
        "plt.show()"
      ],
      "metadata": {
        "colab": {
          "base_uri": "https://localhost:8080/",
          "height": 472
        },
        "id": "zSCJxVinICsd",
        "outputId": "703c0ed6-b290-45c0-a021-7d8970130eb6"
      },
      "execution_count": null,
      "outputs": [
        {
          "output_type": "display_data",
          "data": {
            "text/plain": [
              "<Figure size 640x480 with 1 Axes>"
            ],
            "image/png": "[encoded data removed]"
          },
          "metadata": {}
        }
      ]
    }
  ]
}