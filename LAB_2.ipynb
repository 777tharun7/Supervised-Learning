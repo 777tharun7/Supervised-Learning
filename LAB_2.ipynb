{
  "nbformat": 4,
  "nbformat_minor": 0,
  "metadata": {
    "colab": {
      "provenance": [],
      "include_colab_link": true
    },
    "kernelspec": {
      "name": "python3",
      "display_name": "Python 3"
    },
    "language_info": {
      "name": "python"
    }
  },
  "cells": [
    {
      "cell_type": "markdown",
      "metadata": {
        "id": "view-in-github",
        "colab_type": "text"
      },
      "source": [
        "<a href=\"https://colab.research.google.com/github/777tharun7/Supervised-Learning/blob/main/LAB_2.ipynb\" target=\"_parent\"><img src=\"https://colab.research.google.com/assets/colab-badge.svg\" alt=\"Open In Colab\"/></a>"
      ]
    },
    {
      "cell_type": "markdown",
      "source": [
        "LAB-2"
      ],
      "metadata": {
        "id": "MaTDYQth_LhW"
      }
    },
    {
      "cell_type": "code",
      "execution_count": null,
      "metadata": {
        "id": "0iP4xrmq-Fvi"
      },
      "outputs": [],
      "source": [
        "import numpy as np"
      ]
    },
    {
      "cell_type": "code",
      "source": [
        "def mae(List_X, List_Y, W):\n",
        "    b = 0\n",
        "    error = 0\n",
        "    for i in range(len(List_X)):\n",
        "        predicted_output = W * List_X[i] + b\n",
        "        error += abs(List_Y[i] - predicted_output)\n",
        "    return error / len(List_X)"
      ],
      "metadata": {
        "id": "vROWDMIH-RH_"
      },
      "execution_count": null,
      "outputs": []
    },
    {
      "cell_type": "code",
      "source": [
        "def mse(List_X, List_Y, W):\n",
        "    b = 0\n",
        "    error = 0\n",
        "    for i in range(len(List_X)):\n",
        "        predicted_output = W * List_X[i] + b\n",
        "        error += (List_Y[i] - predicted_output) ** 2\n",
        "    return error / len(List_X)\n",
        "List_X = [2, 7, 8, 9]\n",
        "List_Y = [13, 15, 19, 17]\n",
        "W = 2"
      ],
      "metadata": {
        "id": "JJh1rLfO-TkS"
      },
      "execution_count": null,
      "outputs": []
    },
    {
      "cell_type": "code",
      "source": [
        "mae_result = mae(List_X, List_Y, W)\n",
        "print(\"Mean Absolute Error is: \", mae_result)"
      ],
      "metadata": {
        "colab": {
          "base_uri": "https://localhost:8080/"
        },
        "id": "-zb4bhJL-fKi",
        "outputId": "0ee0588f-313e-4853-bb9b-8fd24a6a6c39"
      },
      "execution_count": null,
      "outputs": [
        {
          "output_type": "stream",
          "name": "stdout",
          "text": [
            "Mean Absolute Error is:  3.5\n"
          ]
        }
      ]
    },
    {
      "cell_type": "code",
      "source": [
        "mse_result = mse(List_X, List_Y, W)\n",
        "print(\"Mean Square Error is: \", mse_result)"
      ],
      "metadata": {
        "colab": {
          "base_uri": "https://localhost:8080/"
        },
        "id": "4mQUm-rv-iHp",
        "outputId": "05f4f920-3662-456c-b129-3380e7197d35"
      },
      "execution_count": null,
      "outputs": [
        {
          "output_type": "stream",
          "name": "stdout",
          "text": [
            "Mean Square Error is:  23.0\n"
          ]
        }
      ]
    }
  ]
}