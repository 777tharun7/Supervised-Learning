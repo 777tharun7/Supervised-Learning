{
  "nbformat": 4,
  "nbformat_minor": 0,
  "metadata": {
    "colab": {
      "provenance": [],
      "include_colab_link": true
    },
    "kernelspec": {
      "name": "python3",
      "display_name": "Python 3"
    },
    "language_info": {
      "name": "python"
    }
  },
  "cells": [
    {
      "cell_type": "markdown",
      "metadata": {
        "id": "view-in-github",
        "colab_type": "text"
      },
      "source": [
        "<a href=\"https://colab.research.google.com/github/777tharun7/Supervised-Learning/blob/main/LAB_1.ipynb\" target=\"_parent\"><img src=\"https://colab.research.google.com/assets/colab-badge.svg\" alt=\"Open In Colab\"/></a>"
      ]
    },
    {
      "cell_type": "markdown",
      "source": [
        "# **LAB-1**"
      ],
      "metadata": {
        "id": "aBpNJRop8QhV"
      }
    },
    {
      "cell_type": "code",
      "source": [
        "import numpy as np\n",
        "import pandas as pd"
      ],
      "metadata": {
        "id": "0thOEDu_Y_lp"
      },
      "execution_count": null,
      "outputs": []
    },
    {
      "cell_type": "code",
      "source": [
        "emp_data = pd.read_csv(\"Employee.csv\")\n"
      ],
      "metadata": {
        "id": "cyjXZvAk7itX"
      },
      "execution_count": null,
      "outputs": []
    },
    {
      "cell_type": "code",
      "source": [
        "print(emp_data.shape)\n",
        "print(emp_data.columns)\n",
        "print(emp_data.describe())\n",
        "print(emp_data['Age'].mean())"
      ],
      "metadata": {
        "colab": {
          "base_uri": "https://localhost:8080/"
        },
        "id": "RuwPFIOR7sHx",
        "outputId": "1c178aa2-fdaa-47ae-e318-d60e906a305b"
      },
      "execution_count": null,
      "outputs": [
        {
          "output_type": "stream",
          "name": "stdout",
          "text": [
            "(4653, 9)\n",
            "Index(['Education', 'JoiningYear', 'City', 'PaymentTier', 'Age', 'Gender',\n",
            "       'EverBenched', 'ExperienceInCurrentDomain', 'LeaveOrNot'],\n",
            "      dtype='object')\n",
            "       JoiningYear  PaymentTier          Age  ExperienceInCurrentDomain  \\\n",
            "count  4653.000000  4653.000000  4653.000000                4653.000000   \n",
            "mean   2015.062970     2.698259    29.393295                   2.905652   \n",
            "std       1.863377     0.561435     4.826087                   1.558240   \n",
            "min    2012.000000     1.000000    22.000000                   0.000000   \n",
            "25%    2013.000000     3.000000    26.000000                   2.000000   \n",
            "50%    2015.000000     3.000000    28.000000                   3.000000   \n",
            "75%    2017.000000     3.000000    32.000000                   4.000000   \n",
            "max    2018.000000     3.000000    41.000000                   7.000000   \n",
            "\n",
            "        LeaveOrNot  \n",
            "count  4653.000000  \n",
            "mean      0.343864  \n",
            "std       0.475047  \n",
            "min       0.000000  \n",
            "25%       0.000000  \n",
            "50%       0.000000  \n",
            "75%       1.000000  \n",
            "max       1.000000  \n",
            "29.393294648613796\n"
          ]
        }
      ]
    },
    {
      "cell_type": "code",
      "source": [
        "ages = emp_data['Age'].values\n",
        "print(ages)\n",
        "print(np.mean(ages))\n",
        "print(np.std(ages))\n",
        "print(np.unique(ages))"
      ],
      "metadata": {
        "colab": {
          "base_uri": "https://localhost:8080/"
        },
        "id": "HxirrVa08DSH",
        "outputId": "3ec016b9-5477-4200-8bbf-dd5190dfab61"
      },
      "execution_count": null,
      "outputs": [
        {
          "output_type": "stream",
          "name": "stdout",
          "text": [
            "[34 28 38 ... 27 30 33]\n",
            "29.393294648613796\n",
            "4.825568381752676\n",
            "[22 23 24 25 26 27 28 29 30 31 32 33 34 35 36 37 38 39 40 41]\n"
          ]
        }
      ]
    }
  ]
}